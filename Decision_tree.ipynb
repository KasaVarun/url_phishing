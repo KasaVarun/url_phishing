{
 "cells": [
  {
   "cell_type": "code",
   "execution_count": 1,
   "metadata": {},
   "outputs": [],
   "source": [
    "import pandas as pd"
   ]
  },
  {
   "cell_type": "code",
   "execution_count": 2,
   "metadata": {},
   "outputs": [],
   "source": [
    "urls_data = pd.read_csv(\"url_dataset.csv\")"
   ]
  },
  {
   "cell_type": "code",
   "execution_count": 3,
   "metadata": {},
   "outputs": [
    {
     "data": {
      "text/html": [
       "<div>\n",
       "<style scoped>\n",
       "    .dataframe tbody tr th:only-of-type {\n",
       "        vertical-align: middle;\n",
       "    }\n",
       "\n",
       "    .dataframe tbody tr th {\n",
       "        vertical-align: top;\n",
       "    }\n",
       "\n",
       "    .dataframe thead th {\n",
       "        text-align: right;\n",
       "    }\n",
       "</style>\n",
       "<table border=\"1\" class=\"dataframe\">\n",
       "  <thead>\n",
       "    <tr style=\"text-align: right;\">\n",
       "      <th></th>\n",
       "      <th>protocol</th>\n",
       "      <th>domain_name</th>\n",
       "      <th>address</th>\n",
       "      <th>long_url</th>\n",
       "      <th>having_@_symbol</th>\n",
       "      <th>redirection_//_symbol</th>\n",
       "      <th>prefix_suffix_seperation</th>\n",
       "      <th>sub_domains</th>\n",
       "      <th>having_ip_address</th>\n",
       "      <th>shortening_service</th>\n",
       "      <th>https_token</th>\n",
       "      <th>abnormal_url</th>\n",
       "      <th>web_traffic</th>\n",
       "      <th>domain_registration_length</th>\n",
       "      <th>age_of_domain</th>\n",
       "      <th>dns_record</th>\n",
       "      <th>statistical_report</th>\n",
       "    </tr>\n",
       "  </thead>\n",
       "  <tbody>\n",
       "    <tr>\n",
       "      <th>0</th>\n",
       "      <td>http</td>\n",
       "      <td>www.liquidgeneration.com</td>\n",
       "      <td>NaN</td>\n",
       "      <td>0</td>\n",
       "      <td>0</td>\n",
       "      <td>0</td>\n",
       "      <td>0</td>\n",
       "      <td>0</td>\n",
       "      <td>0</td>\n",
       "      <td>0</td>\n",
       "      <td>1</td>\n",
       "      <td>1</td>\n",
       "      <td>2</td>\n",
       "      <td>1</td>\n",
       "      <td>1</td>\n",
       "      <td>1</td>\n",
       "      <td>0</td>\n",
       "    </tr>\n",
       "    <tr>\n",
       "      <th>1</th>\n",
       "      <td>http</td>\n",
       "      <td>www.onlineanime.org</td>\n",
       "      <td>NaN</td>\n",
       "      <td>0</td>\n",
       "      <td>0</td>\n",
       "      <td>0</td>\n",
       "      <td>0</td>\n",
       "      <td>0</td>\n",
       "      <td>0</td>\n",
       "      <td>0</td>\n",
       "      <td>1</td>\n",
       "      <td>1</td>\n",
       "      <td>1</td>\n",
       "      <td>1</td>\n",
       "      <td>1</td>\n",
       "      <td>1</td>\n",
       "      <td>1</td>\n",
       "    </tr>\n",
       "    <tr>\n",
       "      <th>2</th>\n",
       "      <td>http</td>\n",
       "      <td>www.ceres.dti.ne.jp</td>\n",
       "      <td>~nekoi/senno/senfirst.html</td>\n",
       "      <td>0</td>\n",
       "      <td>0</td>\n",
       "      <td>0</td>\n",
       "      <td>0</td>\n",
       "      <td>1</td>\n",
       "      <td>0</td>\n",
       "      <td>0</td>\n",
       "      <td>1</td>\n",
       "      <td>1</td>\n",
       "      <td>0</td>\n",
       "      <td>1</td>\n",
       "      <td>1</td>\n",
       "      <td>1</td>\n",
       "      <td>0</td>\n",
       "    </tr>\n",
       "    <tr>\n",
       "      <th>3</th>\n",
       "      <td>http</td>\n",
       "      <td>www.galeon.com</td>\n",
       "      <td>kmh/</td>\n",
       "      <td>0</td>\n",
       "      <td>0</td>\n",
       "      <td>0</td>\n",
       "      <td>0</td>\n",
       "      <td>0</td>\n",
       "      <td>0</td>\n",
       "      <td>0</td>\n",
       "      <td>1</td>\n",
       "      <td>1</td>\n",
       "      <td>0</td>\n",
       "      <td>1</td>\n",
       "      <td>1</td>\n",
       "      <td>1</td>\n",
       "      <td>0</td>\n",
       "    </tr>\n",
       "    <tr>\n",
       "      <th>4</th>\n",
       "      <td>http</td>\n",
       "      <td>www.fanworkrecs.com</td>\n",
       "      <td>NaN</td>\n",
       "      <td>0</td>\n",
       "      <td>0</td>\n",
       "      <td>0</td>\n",
       "      <td>0</td>\n",
       "      <td>0</td>\n",
       "      <td>0</td>\n",
       "      <td>0</td>\n",
       "      <td>1</td>\n",
       "      <td>1</td>\n",
       "      <td>1</td>\n",
       "      <td>1</td>\n",
       "      <td>1</td>\n",
       "      <td>1</td>\n",
       "      <td>0</td>\n",
       "    </tr>\n",
       "    <tr>\n",
       "      <th>5</th>\n",
       "      <td>http</td>\n",
       "      <td>www.animehouse.com</td>\n",
       "      <td>NaN</td>\n",
       "      <td>0</td>\n",
       "      <td>0</td>\n",
       "      <td>0</td>\n",
       "      <td>0</td>\n",
       "      <td>0</td>\n",
       "      <td>0</td>\n",
       "      <td>0</td>\n",
       "      <td>1</td>\n",
       "      <td>1</td>\n",
       "      <td>1</td>\n",
       "      <td>1</td>\n",
       "      <td>1</td>\n",
       "      <td>1</td>\n",
       "      <td>1</td>\n",
       "    </tr>\n",
       "    <tr>\n",
       "      <th>6</th>\n",
       "      <td>http</td>\n",
       "      <td>www2.117.ne.jp</td>\n",
       "      <td>~mb1996ax/enadc.html</td>\n",
       "      <td>0</td>\n",
       "      <td>0</td>\n",
       "      <td>0</td>\n",
       "      <td>0</td>\n",
       "      <td>2</td>\n",
       "      <td>0</td>\n",
       "      <td>0</td>\n",
       "      <td>1</td>\n",
       "      <td>1</td>\n",
       "      <td>2</td>\n",
       "      <td>1</td>\n",
       "      <td>1</td>\n",
       "      <td>1</td>\n",
       "      <td>0</td>\n",
       "    </tr>\n",
       "    <tr>\n",
       "      <th>7</th>\n",
       "      <td>http</td>\n",
       "      <td>archive.rhps.org</td>\n",
       "      <td>fritters/yui/index.html</td>\n",
       "      <td>0</td>\n",
       "      <td>0</td>\n",
       "      <td>0</td>\n",
       "      <td>0</td>\n",
       "      <td>0</td>\n",
       "      <td>0</td>\n",
       "      <td>0</td>\n",
       "      <td>1</td>\n",
       "      <td>1</td>\n",
       "      <td>2</td>\n",
       "      <td>1</td>\n",
       "      <td>1</td>\n",
       "      <td>1</td>\n",
       "      <td>0</td>\n",
       "    </tr>\n",
       "    <tr>\n",
       "      <th>8</th>\n",
       "      <td>http</td>\n",
       "      <td>www.freecartoonsex.com</td>\n",
       "      <td>NaN</td>\n",
       "      <td>0</td>\n",
       "      <td>0</td>\n",
       "      <td>0</td>\n",
       "      <td>0</td>\n",
       "      <td>0</td>\n",
       "      <td>0</td>\n",
       "      <td>1</td>\n",
       "      <td>1</td>\n",
       "      <td>1</td>\n",
       "      <td>2</td>\n",
       "      <td>1</td>\n",
       "      <td>1</td>\n",
       "      <td>1</td>\n",
       "      <td>0</td>\n",
       "    </tr>\n",
       "    <tr>\n",
       "      <th>9</th>\n",
       "      <td>http</td>\n",
       "      <td>www.cutepet.org</td>\n",
       "      <td>NaN</td>\n",
       "      <td>0</td>\n",
       "      <td>0</td>\n",
       "      <td>0</td>\n",
       "      <td>0</td>\n",
       "      <td>0</td>\n",
       "      <td>0</td>\n",
       "      <td>0</td>\n",
       "      <td>1</td>\n",
       "      <td>1</td>\n",
       "      <td>2</td>\n",
       "      <td>1</td>\n",
       "      <td>1</td>\n",
       "      <td>1</td>\n",
       "      <td>0</td>\n",
       "    </tr>\n",
       "  </tbody>\n",
       "</table>\n",
       "</div>"
      ],
      "text/plain": [
       "  protocol               domain_name                     address  long_url  \\\n",
       "0     http  www.liquidgeneration.com                         NaN         0   \n",
       "1     http       www.onlineanime.org                         NaN         0   \n",
       "2     http       www.ceres.dti.ne.jp  ~nekoi/senno/senfirst.html         0   \n",
       "3     http            www.galeon.com                        kmh/         0   \n",
       "4     http       www.fanworkrecs.com                         NaN         0   \n",
       "5     http        www.animehouse.com                         NaN         0   \n",
       "6     http            www2.117.ne.jp        ~mb1996ax/enadc.html         0   \n",
       "7     http          archive.rhps.org     fritters/yui/index.html         0   \n",
       "8     http    www.freecartoonsex.com                         NaN         0   \n",
       "9     http           www.cutepet.org                         NaN         0   \n",
       "\n",
       "   having_@_symbol  redirection_//_symbol  prefix_suffix_seperation  \\\n",
       "0                0                      0                         0   \n",
       "1                0                      0                         0   \n",
       "2                0                      0                         0   \n",
       "3                0                      0                         0   \n",
       "4                0                      0                         0   \n",
       "5                0                      0                         0   \n",
       "6                0                      0                         0   \n",
       "7                0                      0                         0   \n",
       "8                0                      0                         0   \n",
       "9                0                      0                         0   \n",
       "\n",
       "   sub_domains  having_ip_address  shortening_service  https_token  \\\n",
       "0            0                  0                   0            1   \n",
       "1            0                  0                   0            1   \n",
       "2            1                  0                   0            1   \n",
       "3            0                  0                   0            1   \n",
       "4            0                  0                   0            1   \n",
       "5            0                  0                   0            1   \n",
       "6            2                  0                   0            1   \n",
       "7            0                  0                   0            1   \n",
       "8            0                  0                   1            1   \n",
       "9            0                  0                   0            1   \n",
       "\n",
       "   abnormal_url  web_traffic  domain_registration_length  age_of_domain  \\\n",
       "0             1            2                           1              1   \n",
       "1             1            1                           1              1   \n",
       "2             1            0                           1              1   \n",
       "3             1            0                           1              1   \n",
       "4             1            1                           1              1   \n",
       "5             1            1                           1              1   \n",
       "6             1            2                           1              1   \n",
       "7             1            2                           1              1   \n",
       "8             1            2                           1              1   \n",
       "9             1            2                           1              1   \n",
       "\n",
       "   dns_record  statistical_report  \n",
       "0           1                   0  \n",
       "1           1                   1  \n",
       "2           1                   0  \n",
       "3           1                   0  \n",
       "4           1                   0  \n",
       "5           1                   1  \n",
       "6           1                   0  \n",
       "7           1                   0  \n",
       "8           1                   0  \n",
       "9           1                   0  "
      ]
     },
     "execution_count": 3,
     "metadata": {},
     "output_type": "execute_result"
    }
   ],
   "source": [
    "urls_data.head(10)"
   ]
  },
  {
   "cell_type": "code",
   "execution_count": 4,
   "metadata": {},
   "outputs": [
    {
     "data": {
      "text/plain": [
       "Index(['protocol', 'domain_name', 'address', 'long_url', 'having_@_symbol',\n",
       "       'redirection_//_symbol', 'prefix_suffix_seperation', 'sub_domains',\n",
       "       'having_ip_address', 'shortening_service', 'https_token',\n",
       "       'abnormal_url', 'web_traffic', 'domain_registration_length',\n",
       "       'age_of_domain', 'dns_record', 'statistical_report'],\n",
       "      dtype='object')"
      ]
     },
     "execution_count": 4,
     "metadata": {},
     "output_type": "execute_result"
    }
   ],
   "source": [
    "urls_data.columns"
   ]
  },
  {
   "cell_type": "code",
   "execution_count": 5,
   "metadata": {},
   "outputs": [],
   "source": [
    "urls = urls_data.drop(urls_data.columns[[0,1,2]],axis=1)"
   ]
  },
  {
   "cell_type": "code",
   "execution_count": 6,
   "metadata": {},
   "outputs": [],
   "source": [
    "x_axis = urls.drop('statistical_report',axis=1)\n",
    "x_axis.columns\n",
    "y_axis = urls['statistical_report']\n"
   ]
  },
  {
   "cell_type": "code",
   "execution_count": 7,
   "metadata": {},
   "outputs": [],
   "source": [
    "from sklearn.model_selection import train_test_split\n",
    "data_train, data_test, labels_train, labels_test = train_test_split(x_axis, y_axis, test_size=0.20, random_state=100)"
   ]
  },
  {
   "cell_type": "code",
   "execution_count": 8,
   "metadata": {},
   "outputs": [
    {
     "name": "stdout",
     "output_type": "stream",
     "text": [
      "(1496, 375, 1496, 375)\n"
     ]
    }
   ],
   "source": [
    "train_test=len(data_train),len(data_test),len(labels_train),len(labels_test)\n",
    "\n",
    "print(train_test)"
   ]
  },
  {
   "cell_type": "code",
   "execution_count": 9,
   "metadata": {},
   "outputs": [
    {
     "data": {
      "image/png": "[encoded data removed]",
      "text/plain": [
       "<Figure size 640x480 with 1 Axes>"
      ]
     },
     "metadata": {},
     "output_type": "display_data"
    }
   ],
   "source": [
    "import matplotlib.pyplot as plt; plt.rcdefaults()\n",
    "import numpy as np\n",
    "import matplotlib.pyplot as plt\n",
    " \n",
    "objects = ('X_train', 'X_test', 'Y_train', 'Y_test')\n",
    "y_pos = np.arange(len(objects))\n",
    "performance = train_test\n",
    " \n",
    "plt.bar(y_pos, performance, align='center', alpha=0.5)\n",
    "plt.xticks(y_pos, objects)\n",
    "plt.ylabel('Data Values')\n",
    "plt.title('Splitted Data as X and Y')\n",
    " \n",
    "plt.show()"
   ]
  },
  {
   "cell_type": "code",
   "execution_count": 10,
   "metadata": {},
   "outputs": [
    {
     "data": {
      "image/png": "[encoded data removed]",
      "text/plain": [
       "<Figure size 640x480 with 1 Axes>"
      ]
     },
     "metadata": {},
     "output_type": "display_data"
    }
   ],
   "source": [
    "train_data=labels_train.value_counts()\n",
    "\n",
    "import matplotlib.pyplot as plt; plt.rcdefaults()\n",
    "import numpy as np\n",
    "import matplotlib.pyplot as plt\n",
    " \n",
    "objects = ('Yes', 'No')\n",
    "y_pos = np.arange(len(objects))\n",
    "performance = train_data\n",
    " \n",
    "plt.bar(y_pos, performance, align='center', alpha=0.5)\n",
    "plt.xticks(y_pos, objects)\n",
    "plt.ylabel('Data Values')\n",
    "plt.title('Train Data')\n",
    " \n",
    "plt.show()"
   ]
  },
  {
   "cell_type": "code",
   "execution_count": 11,
   "metadata": {},
   "outputs": [
    {
     "data": {
      "image/png": "[encoded data removed]",
      "text/plain": [
       "<Figure size 640x480 with 1 Axes>"
      ]
     },
     "metadata": {},
     "output_type": "display_data"
    }
   ],
   "source": [
    "test_data=labels_test.value_counts()\n",
    "\n",
    "objects = ('Yes', 'No')\n",
    "y_pos = np.arange(len(objects))\n",
    "performance = test_data\n",
    " \n",
    "plt.bar(y_pos, performance, align='center', alpha=0.5)\n",
    "plt.xticks(y_pos, objects)\n",
    "plt.ylabel('Data Values')\n",
    "plt.title('Test Data')\n",
    " \n",
    "plt.show()"
   ]
  },
  {
   "cell_type": "code",
   "execution_count": 12,
   "metadata": {},
   "outputs": [
    {
     "data": {
      "text/plain": [
       "DecisionTreeClassifier()"
      ]
     },
     "execution_count": 12,
     "metadata": {},
     "output_type": "execute_result"
    }
   ],
   "source": [
    "from sklearn.tree import DecisionTreeClassifier\n",
    "model = DecisionTreeClassifier()\n",
    "model.fit(data_train,labels_train)"
   ]
  },
  {
   "cell_type": "code",
   "execution_count": 13,
   "metadata": {},
   "outputs": [],
   "source": [
    "pred_label = model.predict(data_test)"
   ]
  },
  {
   "cell_type": "code",
   "execution_count": 14,
   "metadata": {},
   "outputs": [
    {
     "name": "stdout",
     "output_type": "stream",
     "text": [
      "[[240  18]\n",
      " [ 66  51]]\n",
      "0.776\n"
     ]
    }
   ],
   "source": [
    "from sklearn import metrics\n",
    "from sklearn.metrics import confusion_matrix,accuracy_score\n",
    "cm = confusion_matrix(labels_test,pred_label)\n",
    "print(cm)\n",
    "dt_result=accuracy_score(labels_test,pred_label)\n",
    "print (dt_result)"
   ]
  },
  {
   "cell_type": "code",
   "execution_count": 15,
   "metadata": {},
   "outputs": [
    {
     "name": "stdout",
     "output_type": "stream",
     "text": [
      "[[239  19]\n",
      " [ 65  52]]\n",
      "0.776\n"
     ]
    }
   ],
   "source": [
    "from sklearn.ensemble import RandomForestClassifier\n",
    "rf_classifier=RandomForestClassifier()\n",
    "rf_classifier.fit(data_train,labels_train)\n",
    "prediction_res=rf_classifier.predict(data_test)\n",
    "cm_1=confusion_matrix(labels_test,prediction_res)\n",
    "print(cm_1)\n",
    "rf_result=accuracy_score(labels_test,prediction_res)\n",
    "print (rf_result)"
   ]
  },
  {
   "cell_type": "code",
   "execution_count": 16,
   "metadata": {},
   "outputs": [
    {
     "name": "stdout",
     "output_type": "stream",
     "text": [
      "[[242  16]\n",
      " [ 71  46]]\n",
      "0.768\n"
     ]
    }
   ],
   "source": [
    "from sklearn.linear_model import LogisticRegression\n",
    "lr_classifier=LogisticRegression()\n",
    "lr_classifier.fit(data_train,labels_train)\n",
    "prediction_res=lr_classifier.predict(data_test)\n",
    "cm_2=confusion_matrix(labels_test,prediction_res)\n",
    "print(cm_2)\n",
    "lr_result=accuracy_score(labels_test,prediction_res)\n",
    "print (lr_result)"
   ]
  },
  {
   "cell_type": "code",
   "execution_count": 17,
   "metadata": {},
   "outputs": [
    {
     "name": "stdout",
     "output_type": "stream",
     "text": [
      "[[242  16]\n",
      " [ 71  46]]\n",
      "0.6986666666666667\n"
     ]
    }
   ],
   "source": [
    "from sklearn.neighbors import KNeighborsClassifier\n",
    "knn_classifier=KNeighborsClassifier()\n",
    "knn_classifier.fit(data_train,labels_train)\n",
    "predict_res=knn_classifier.predict(data_test)\n",
    "cm_3=confusion_matrix(labels_test,prediction_res)\n",
    "print(cm_3)\n",
    "knn_result=accuracy_score(labels_test,predict_res)\n",
    "print (knn_result)"
   ]
  },
  {
   "cell_type": "code",
   "execution_count": 18,
   "metadata": {},
   "outputs": [
    {
     "data": {
      "image/png": "[encoded data removed]",
      "text/plain": [
       "<Figure size 640x480 with 1 Axes>"
      ]
     },
     "metadata": {},
     "output_type": "display_data"
    }
   ],
   "source": [
    "import matplotlib.pyplot as plt; plt.rcdefaults()\n",
    "import numpy as np\n",
    "import matplotlib.pyplot as plt\n",
    "\n",
    "objects = ('DT', 'RF', 'LR', 'KNN')\n",
    "y_pos = np.arange(len(objects))\n",
    "performance = [dt_result,rf_result,lr_result,knn_result]\n",
    "\n",
    "plt.bar(y_pos, performance, align='center', alpha=0.5)\n",
    "plt.xticks(y_pos, objects)\n",
    "plt.ylabel('Usage')\n",
    "plt.title('Algorithm Performance')\n",
    "\n",
    "plt.show()"
   ]
  },
  {
   "cell_type": "code",
   "execution_count": null,
   "metadata": {},
   "outputs": [],
   "source": []
  }
 ],
 "metadata": {
  "kernelspec": {
   "display_name": "Python 3 (ipykernel)",
   "language": "python",
   "name": "python3"
  },
  "language_info": {
   "codemirror_mode": {
    "name": "ipython",
    "version": 3
   },
   "file_extension": ".py",
   "mimetype": "text/x-python",
   "name": "python",
   "nbconvert_exporter": "python",
   "pygments_lexer": "ipython3",
   "version": "3.9.7"
  }
 },
 "nbformat": 4,
 "nbformat_minor": 2
}
